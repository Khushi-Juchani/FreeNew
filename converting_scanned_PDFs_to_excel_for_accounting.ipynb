{
  "nbformat": 4,
  "nbformat_minor": 0,
  "metadata": {
    "colab": {
      "provenance": [],
      "include_colab_link": true
    },
    "kernelspec": {
      "name": "python3",
      "display_name": "Python 3"
    }
  },
  "cells": [
    {
      "cell_type": "markdown",
      "metadata": {
        "id": "view-in-github",
        "colab_type": "text"
      },
      "source": [
        "<a href=\"https://colab.research.google.com/github/Khushi-Juchani/FreeNew/blob/master/converting_scanned_PDFs_to_excel_for_accounting.ipynb\" target=\"_parent\"><img src=\"https://colab.research.google.com/assets/colab-badge.svg\" alt=\"Open In Colab\"/></a>"
      ]
    },
    {
      "cell_type": "code",
      "metadata": {
        "id": "zkyeOqINJf2V",
        "outputId": "bb9b623b-459d-42ed-91f9-ed568bb3c76a",
        "colab": {
          "base_uri": "https://localhost:8080/"
        }
      },
      "source": [
        "!apt-get install ocrmypdf -q"
      ],
      "execution_count": 1,
      "outputs": [
        {
          "output_type": "stream",
          "name": "stdout",
          "text": [
            "Reading package lists...\n",
            "Building dependency tree...\n",
            "Reading state information...\n",
            "The following additional packages will be installed:\n",
            "  fonts-droid-fallback fonts-noto-mono fonts-urw-base35 ghostscript icc-profiles-free libgs9\n",
            "  libgs9-common libidn12 libijs-0.35 libimagequant0 libjbig2dec0 libqpdf28 libraqm0 mailcap\n",
            "  mime-support pngquant poppler-data python3-bs4 python3-chardet python3-coloredlogs\n",
            "  python3-html5lib python3-humanfriendly python3-img2pdf python3-lxml python3-olefile\n",
            "  python3-packaging python3-pdfminer python3-pikepdf python3-pil python3-pluggy python3-renderpm\n",
            "  python3-reportlab python3-reportlab-accel python3-soupsieve python3-tqdm python3-webencodings\n",
            "  tesseract-ocr tesseract-ocr-eng tesseract-ocr-osd unpaper\n",
            "Suggested packages:\n",
            "  fonts-noto fonts-freefont-otf | fonts-freefont-ttf fonts-texgyre ghostscript-x ocrmypdf-doc\n",
            "  python-watchdog img2pdf poppler-utils fonts-japanese-mincho | fonts-ipafont-mincho\n",
            "  fonts-japanese-gothic | fonts-ipafont-gothic fonts-arphic-ukai fonts-arphic-uming fonts-nanum\n",
            "  python3-genshi python-lxml-doc pdfminer-data python-pil-doc pdf-viewer python3-egenix-mxtexttools\n",
            "  python-reportlab-doc\n",
            "The following NEW packages will be installed:\n",
            "  fonts-droid-fallback fonts-noto-mono fonts-urw-base35 ghostscript icc-profiles-free libgs9\n",
            "  libgs9-common libidn12 libijs-0.35 libimagequant0 libjbig2dec0 libqpdf28 libraqm0 mailcap\n",
            "  mime-support ocrmypdf pngquant poppler-data python3-bs4 python3-chardet python3-coloredlogs\n",
            "  python3-html5lib python3-humanfriendly python3-img2pdf python3-lxml python3-olefile\n",
            "  python3-packaging python3-pdfminer python3-pikepdf python3-pil python3-pluggy python3-renderpm\n",
            "  python3-reportlab python3-reportlab-accel python3-soupsieve python3-tqdm python3-webencodings\n",
            "  tesseract-ocr tesseract-ocr-eng tesseract-ocr-osd unpaper\n",
            "0 upgraded, 41 newly installed, 0 to remove and 38 not upgraded.\n",
            "Need to get 26.4 MB of archives.\n",
            "After this operation, 99.0 MB of additional disk space will be used.\n",
            "Get:1 http://archive.ubuntu.com/ubuntu jammy/main amd64 fonts-droid-fallback all 1:6.0.1r16-1.1build1 [1,805 kB]\n",
            "Get:2 http://archive.ubuntu.com/ubuntu jammy/main amd64 poppler-data all 0.4.11-1 [2,171 kB]\n",
            "Get:3 http://archive.ubuntu.com/ubuntu jammy/main amd64 fonts-noto-mono all 20201225-1build1 [397 kB]\n",
            "Get:4 http://archive.ubuntu.com/ubuntu jammy/main amd64 fonts-urw-base35 all 20200910-1 [6,367 kB]\n",
            "Get:5 http://archive.ubuntu.com/ubuntu jammy-updates/main amd64 libgs9-common all 9.55.0~dfsg1-0ubuntu5.6 [751 kB]\n",
            "Get:6 http://archive.ubuntu.com/ubuntu jammy-updates/main amd64 libidn12 amd64 1.38-4ubuntu1 [60.0 kB]\n",
            "Get:7 http://archive.ubuntu.com/ubuntu jammy/main amd64 libijs-0.35 amd64 0.35-15build2 [16.5 kB]\n",
            "Get:8 http://archive.ubuntu.com/ubuntu jammy/main amd64 libjbig2dec0 amd64 0.19-3build2 [64.7 kB]\n",
            "Get:9 http://archive.ubuntu.com/ubuntu jammy-updates/main amd64 libgs9 amd64 9.55.0~dfsg1-0ubuntu5.6 [5,031 kB]\n",
            "Get:10 http://archive.ubuntu.com/ubuntu jammy-updates/main amd64 ghostscript amd64 9.55.0~dfsg1-0ubuntu5.6 [49.4 kB]\n",
            "Get:11 http://archive.ubuntu.com/ubuntu jammy/main amd64 icc-profiles-free all 2.0.1+dfsg-1.1 [214 kB]\n",
            "Get:12 http://archive.ubuntu.com/ubuntu jammy/main amd64 libimagequant0 amd64 2.17.0-1 [34.6 kB]\n",
            "Get:13 http://archive.ubuntu.com/ubuntu jammy/main amd64 libqpdf28 amd64 10.6.3-1 [740 kB]\n",
            "Get:14 http://archive.ubuntu.com/ubuntu jammy/main amd64 libraqm0 amd64 0.7.0-4ubuntu1 [11.7 kB]\n",
            "Get:15 http://archive.ubuntu.com/ubuntu jammy/main amd64 mailcap all 3.70+nmu1ubuntu1 [23.8 kB]\n",
            "Get:16 http://archive.ubuntu.com/ubuntu jammy/main amd64 mime-support all 3.66 [3,696 B]\n",
            "Get:17 http://archive.ubuntu.com/ubuntu jammy/main amd64 python3-chardet all 4.0.0-1 [98.0 kB]\n",
            "Get:18 http://archive.ubuntu.com/ubuntu jammy/universe amd64 python3-pdfminer all 20220319+dfsg-1 [110 kB]\n",
            "Get:19 http://archive.ubuntu.com/ubuntu jammy-updates/main amd64 python3-pil amd64 9.0.1-1ubuntu0.2 [419 kB]\n",
            "Get:20 http://archive.ubuntu.com/ubuntu jammy-updates/main amd64 python3-reportlab-accel amd64 3.6.8-1ubuntu0.1 [20.5 kB]\n",
            "Get:21 http://archive.ubuntu.com/ubuntu jammy-updates/main amd64 python3-reportlab all 3.6.8-1ubuntu0.1 [561 kB]\n",
            "Get:22 http://archive.ubuntu.com/ubuntu jammy/main amd64 python3-lxml amd64 4.8.0-1build1 [1,150 kB]\n",
            "Get:23 http://archive.ubuntu.com/ubuntu jammy/main amd64 python3-packaging all 21.3-1 [30.7 kB]\n",
            "Get:24 http://archive.ubuntu.com/ubuntu jammy/universe amd64 python3-pikepdf amd64 5.0.1+dfsg-1 [504 kB]\n",
            "Get:25 http://archive.ubuntu.com/ubuntu jammy/universe amd64 python3-pluggy all 0.13.0-7.1 [19.0 kB]\n",
            "Get:26 http://archive.ubuntu.com/ubuntu jammy/universe amd64 python3-humanfriendly all 10.0-1 [70.4 kB]\n",
            "Get:27 http://archive.ubuntu.com/ubuntu jammy/universe amd64 python3-coloredlogs all 7.3-2 [28.0 kB]\n",
            "Get:28 http://archive.ubuntu.com/ubuntu jammy/universe amd64 tesseract-ocr-eng all 1:4.00~git30-7274cfa-1.1 [1,591 kB]\n",
            "Get:29 http://archive.ubuntu.com/ubuntu jammy/universe amd64 tesseract-ocr-osd all 1:4.00~git30-7274cfa-1.1 [2,990 kB]\n",
            "Get:30 http://archive.ubuntu.com/ubuntu jammy/universe amd64 tesseract-ocr amd64 4.1.1-2.1build1 [236 kB]\n",
            "Get:31 http://archive.ubuntu.com/ubuntu jammy/universe amd64 python3-img2pdf all 0.4.2-2 [38.7 kB]\n",
            "Get:32 http://archive.ubuntu.com/ubuntu jammy/universe amd64 python3-tqdm all 4.57.0-2 [93.0 kB]\n",
            "Get:33 http://archive.ubuntu.com/ubuntu jammy/universe amd64 ocrmypdf all 13.4.0+dfsg-1 [115 kB]\n",
            "Get:34 http://archive.ubuntu.com/ubuntu jammy/universe amd64 pngquant amd64 2.13.1-1 [19.7 kB]\n",
            "Get:35 http://archive.ubuntu.com/ubuntu jammy/main amd64 python3-soupsieve all 2.3.1-1 [33.0 kB]\n",
            "Get:36 http://archive.ubuntu.com/ubuntu jammy/main amd64 python3-bs4 all 4.10.0-2 [79.1 kB]\n",
            "Get:37 http://archive.ubuntu.com/ubuntu jammy/main amd64 python3-webencodings all 0.5.1-4 [11.8 kB]\n",
            "Get:38 http://archive.ubuntu.com/ubuntu jammy/main amd64 python3-html5lib all 1.1-3 [87.0 kB]\n",
            "Get:39 http://archive.ubuntu.com/ubuntu jammy/main amd64 python3-olefile all 0.46-3 [33.8 kB]\n",
            "Get:40 http://archive.ubuntu.com/ubuntu jammy-updates/main amd64 python3-renderpm amd64 3.6.8-1ubuntu0.1 [64.9 kB]\n",
            "Get:41 http://archive.ubuntu.com/ubuntu jammy/universe amd64 unpaper amd64 6.1-2build1 [243 kB]\n",
            "Fetched 26.4 MB in 1s (21.4 MB/s)\n",
            "Extracting templates from packages: 100%\n",
            "Selecting previously unselected package fonts-droid-fallback.\n",
            "(Reading database ... 121752 files and directories currently installed.)\n",
            "Preparing to unpack .../00-fonts-droid-fallback_1%3a6.0.1r16-1.1build1_all.deb ...\n",
            "Unpacking fonts-droid-fallback (1:6.0.1r16-1.1build1) ...\n",
            "Selecting previously unselected package poppler-data.\n",
            "Preparing to unpack .../01-poppler-data_0.4.11-1_all.deb ...\n",
            "Unpacking poppler-data (0.4.11-1) ...\n",
            "Selecting previously unselected package fonts-noto-mono.\n",
            "Preparing to unpack .../02-fonts-noto-mono_20201225-1build1_all.deb ...\n",
            "Unpacking fonts-noto-mono (20201225-1build1) ...\n",
            "Selecting previously unselected package fonts-urw-base35.\n",
            "Preparing to unpack .../03-fonts-urw-base35_20200910-1_all.deb ...\n",
            "Unpacking fonts-urw-base35 (20200910-1) ...\n",
            "Selecting previously unselected package libgs9-common.\n",
            "Preparing to unpack .../04-libgs9-common_9.55.0~dfsg1-0ubuntu5.6_all.deb ...\n",
            "Unpacking libgs9-common (9.55.0~dfsg1-0ubuntu5.6) ...\n",
            "Selecting previously unselected package libidn12:amd64.\n",
            "Preparing to unpack .../05-libidn12_1.38-4ubuntu1_amd64.deb ...\n",
            "Unpacking libidn12:amd64 (1.38-4ubuntu1) ...\n",
            "Selecting previously unselected package libijs-0.35:amd64.\n",
            "Preparing to unpack .../06-libijs-0.35_0.35-15build2_amd64.deb ...\n",
            "Unpacking libijs-0.35:amd64 (0.35-15build2) ...\n",
            "Selecting previously unselected package libjbig2dec0:amd64.\n",
            "Preparing to unpack .../07-libjbig2dec0_0.19-3build2_amd64.deb ...\n",
            "Unpacking libjbig2dec0:amd64 (0.19-3build2) ...\n",
            "Selecting previously unselected package libgs9:amd64.\n",
            "Preparing to unpack .../08-libgs9_9.55.0~dfsg1-0ubuntu5.6_amd64.deb ...\n",
            "Unpacking libgs9:amd64 (9.55.0~dfsg1-0ubuntu5.6) ...\n",
            "Selecting previously unselected package ghostscript.\n",
            "Preparing to unpack .../09-ghostscript_9.55.0~dfsg1-0ubuntu5.6_amd64.deb ...\n",
            "Unpacking ghostscript (9.55.0~dfsg1-0ubuntu5.6) ...\n",
            "Selecting previously unselected package icc-profiles-free.\n",
            "Preparing to unpack .../10-icc-profiles-free_2.0.1+dfsg-1.1_all.deb ...\n",
            "Unpacking icc-profiles-free (2.0.1+dfsg-1.1) ...\n",
            "Selecting previously unselected package libimagequant0:amd64.\n",
            "Preparing to unpack .../11-libimagequant0_2.17.0-1_amd64.deb ...\n",
            "Unpacking libimagequant0:amd64 (2.17.0-1) ...\n",
            "Selecting previously unselected package libqpdf28:amd64.\n",
            "Preparing to unpack .../12-libqpdf28_10.6.3-1_amd64.deb ...\n",
            "Unpacking libqpdf28:amd64 (10.6.3-1) ...\n",
            "Selecting previously unselected package libraqm0:amd64.\n",
            "Preparing to unpack .../13-libraqm0_0.7.0-4ubuntu1_amd64.deb ...\n",
            "Unpacking libraqm0:amd64 (0.7.0-4ubuntu1) ...\n",
            "Selecting previously unselected package mailcap.\n",
            "Preparing to unpack .../14-mailcap_3.70+nmu1ubuntu1_all.deb ...\n",
            "Unpacking mailcap (3.70+nmu1ubuntu1) ...\n",
            "Selecting previously unselected package mime-support.\n",
            "Preparing to unpack .../15-mime-support_3.66_all.deb ...\n",
            "Unpacking mime-support (3.66) ...\n",
            "Selecting previously unselected package python3-chardet.\n",
            "Preparing to unpack .../16-python3-chardet_4.0.0-1_all.deb ...\n",
            "Unpacking python3-chardet (4.0.0-1) ...\n",
            "Selecting previously unselected package python3-pdfminer.\n",
            "Preparing to unpack .../17-python3-pdfminer_20220319+dfsg-1_all.deb ...\n",
            "Unpacking python3-pdfminer (20220319+dfsg-1) ...\n",
            "Selecting previously unselected package python3-pil:amd64.\n",
            "Preparing to unpack .../18-python3-pil_9.0.1-1ubuntu0.2_amd64.deb ...\n",
            "Unpacking python3-pil:amd64 (9.0.1-1ubuntu0.2) ...\n",
            "Selecting previously unselected package python3-reportlab-accel:amd64.\n",
            "Preparing to unpack .../19-python3-reportlab-accel_3.6.8-1ubuntu0.1_amd64.deb ...\n",
            "Unpacking python3-reportlab-accel:amd64 (3.6.8-1ubuntu0.1) ...\n",
            "Selecting previously unselected package python3-reportlab.\n",
            "Preparing to unpack .../20-python3-reportlab_3.6.8-1ubuntu0.1_all.deb ...\n",
            "Unpacking python3-reportlab (3.6.8-1ubuntu0.1) ...\n",
            "Selecting previously unselected package python3-lxml:amd64.\n",
            "Preparing to unpack .../21-python3-lxml_4.8.0-1build1_amd64.deb ...\n",
            "Unpacking python3-lxml:amd64 (4.8.0-1build1) ...\n",
            "Selecting previously unselected package python3-packaging.\n",
            "Preparing to unpack .../22-python3-packaging_21.3-1_all.deb ...\n",
            "Unpacking python3-packaging (21.3-1) ...\n",
            "Selecting previously unselected package python3-pikepdf.\n",
            "Preparing to unpack .../23-python3-pikepdf_5.0.1+dfsg-1_amd64.deb ...\n",
            "Unpacking python3-pikepdf (5.0.1+dfsg-1) ...\n",
            "Selecting previously unselected package python3-pluggy.\n",
            "Preparing to unpack .../24-python3-pluggy_0.13.0-7.1_all.deb ...\n",
            "Unpacking python3-pluggy (0.13.0-7.1) ...\n",
            "Selecting previously unselected package python3-humanfriendly.\n",
            "Preparing to unpack .../25-python3-humanfriendly_10.0-1_all.deb ...\n",
            "Unpacking python3-humanfriendly (10.0-1) ...\n",
            "Selecting previously unselected package python3-coloredlogs.\n",
            "Preparing to unpack .../26-python3-coloredlogs_7.3-2_all.deb ...\n",
            "Unpacking python3-coloredlogs (7.3-2) ...\n",
            "Selecting previously unselected package tesseract-ocr-eng.\n",
            "Preparing to unpack .../27-tesseract-ocr-eng_1%3a4.00~git30-7274cfa-1.1_all.deb ...\n",
            "Unpacking tesseract-ocr-eng (1:4.00~git30-7274cfa-1.1) ...\n",
            "Selecting previously unselected package tesseract-ocr-osd.\n",
            "Preparing to unpack .../28-tesseract-ocr-osd_1%3a4.00~git30-7274cfa-1.1_all.deb ...\n",
            "Unpacking tesseract-ocr-osd (1:4.00~git30-7274cfa-1.1) ...\n",
            "Selecting previously unselected package tesseract-ocr.\n",
            "Preparing to unpack .../29-tesseract-ocr_4.1.1-2.1build1_amd64.deb ...\n",
            "Unpacking tesseract-ocr (4.1.1-2.1build1) ...\n",
            "Selecting previously unselected package python3-img2pdf.\n",
            "Preparing to unpack .../30-python3-img2pdf_0.4.2-2_all.deb ...\n",
            "Unpacking python3-img2pdf (0.4.2-2) ...\n",
            "Selecting previously unselected package python3-tqdm.\n",
            "Preparing to unpack .../31-python3-tqdm_4.57.0-2_all.deb ...\n",
            "Unpacking python3-tqdm (4.57.0-2) ...\n",
            "Selecting previously unselected package ocrmypdf.\n",
            "Preparing to unpack .../32-ocrmypdf_13.4.0+dfsg-1_all.deb ...\n",
            "Unpacking ocrmypdf (13.4.0+dfsg-1) ...\n",
            "Selecting previously unselected package pngquant.\n",
            "Preparing to unpack .../33-pngquant_2.13.1-1_amd64.deb ...\n",
            "Unpacking pngquant (2.13.1-1) ...\n",
            "Selecting previously unselected package python3-soupsieve.\n",
            "Preparing to unpack .../34-python3-soupsieve_2.3.1-1_all.deb ...\n",
            "Unpacking python3-soupsieve (2.3.1-1) ...\n",
            "Selecting previously unselected package python3-bs4.\n",
            "Preparing to unpack .../35-python3-bs4_4.10.0-2_all.deb ...\n",
            "Unpacking python3-bs4 (4.10.0-2) ...\n",
            "Selecting previously unselected package python3-webencodings.\n",
            "Preparing to unpack .../36-python3-webencodings_0.5.1-4_all.deb ...\n",
            "Unpacking python3-webencodings (0.5.1-4) ...\n",
            "Selecting previously unselected package python3-html5lib.\n",
            "Preparing to unpack .../37-python3-html5lib_1.1-3_all.deb ...\n",
            "Unpacking python3-html5lib (1.1-3) ...\n",
            "Selecting previously unselected package python3-olefile.\n",
            "Preparing to unpack .../38-python3-olefile_0.46-3_all.deb ...\n",
            "Unpacking python3-olefile (0.46-3) ...\n",
            "Selecting previously unselected package python3-renderpm:amd64.\n",
            "Preparing to unpack .../39-python3-renderpm_3.6.8-1ubuntu0.1_amd64.deb ...\n",
            "Unpacking python3-renderpm:amd64 (3.6.8-1ubuntu0.1) ...\n",
            "Selecting previously unselected package unpaper.\n",
            "Preparing to unpack .../40-unpaper_6.1-2build1_amd64.deb ...\n",
            "Unpacking unpaper (6.1-2build1) ...\n",
            "Setting up libqpdf28:amd64 (10.6.3-1) ...\n",
            "Setting up fonts-noto-mono (20201225-1build1) ...\n",
            "Setting up libijs-0.35:amd64 (0.35-15build2) ...\n",
            "Setting up python3-olefile (0.46-3) ...\n",
            "Setting up python3-tqdm (4.57.0-2) ...\n",
            "Setting up tesseract-ocr-eng (1:4.00~git30-7274cfa-1.1) ...\n",
            "Setting up fonts-urw-base35 (20200910-1) ...\n",
            "Setting up python3-webencodings (0.5.1-4) ...\n",
            "Setting up poppler-data (0.4.11-1) ...\n",
            "Setting up python3-packaging (21.3-1) ...\n",
            "Setting up python3-chardet (4.0.0-1) ...\n",
            "Setting up python3-humanfriendly (10.0-1) ...\n",
            "Setting up libjbig2dec0:amd64 (0.19-3build2) ...\n",
            "Setting up libraqm0:amd64 (0.7.0-4ubuntu1) ...\n",
            "Setting up python3-reportlab-accel:amd64 (3.6.8-1ubuntu0.1) ...\n",
            "Setting up libimagequant0:amd64 (2.17.0-1) ...\n",
            "Setting up icc-profiles-free (2.0.1+dfsg-1.1) ...\n",
            "Setting up libidn12:amd64 (1.38-4ubuntu1) ...\n",
            "Setting up python3-html5lib (1.1-3) ...\n",
            "Setting up python3-pluggy (0.13.0-7.1) ...\n",
            "Setting up unpaper (6.1-2build1) ...\n",
            "Setting up python3-lxml:amd64 (4.8.0-1build1) ...\n",
            "Setting up fonts-droid-fallback (1:6.0.1r16-1.1build1) ...\n",
            "Setting up tesseract-ocr-osd (1:4.00~git30-7274cfa-1.1) ...\n",
            "Setting up python3-coloredlogs (7.3-2) ...\n",
            "Setting up mailcap (3.70+nmu1ubuntu1) ...\n",
            "Setting up python3-soupsieve (2.3.1-1) ...\n",
            "Setting up libgs9-common (9.55.0~dfsg1-0ubuntu5.6) ...\n",
            "Setting up python3-renderpm:amd64 (3.6.8-1ubuntu0.1) ...\n",
            "Setting up python3-pdfminer (20220319+dfsg-1) ...\n",
            "Setting up mime-support (3.66) ...\n",
            "Setting up libgs9:amd64 (9.55.0~dfsg1-0ubuntu5.6) ...\n",
            "Setting up ghostscript (9.55.0~dfsg1-0ubuntu5.6) ...\n",
            "Setting up python3-bs4 (4.10.0-2) ...\n",
            "Setting up python3-pil:amd64 (9.0.1-1ubuntu0.2) ...\n",
            "Setting up pngquant (2.13.1-1) ...\n",
            "Setting up tesseract-ocr (4.1.1-2.1build1) ...\n",
            "Setting up python3-reportlab (3.6.8-1ubuntu0.1) ...\n",
            "Setting up python3-pikepdf (5.0.1+dfsg-1) ...\n",
            "Setting up python3-img2pdf (0.4.2-2) ...\n",
            "Setting up ocrmypdf (13.4.0+dfsg-1) ...\n",
            "Processing triggers for libc-bin (2.35-0ubuntu3.4) ...\n",
            "/sbin/ldconfig.real: /usr/local/lib/libtbbbind_2_0.so.3 is not a symbolic link\n",
            "\n",
            "/sbin/ldconfig.real: /usr/local/lib/libtbbmalloc_proxy.so.2 is not a symbolic link\n",
            "\n",
            "/sbin/ldconfig.real: /usr/local/lib/libtbbbind_2_5.so.3 is not a symbolic link\n",
            "\n",
            "/sbin/ldconfig.real: /usr/local/lib/libtbbmalloc.so.2 is not a symbolic link\n",
            "\n",
            "/sbin/ldconfig.real: /usr/local/lib/libtbb.so.12 is not a symbolic link\n",
            "\n",
            "/sbin/ldconfig.real: /usr/local/lib/libtbbbind.so.3 is not a symbolic link\n",
            "\n",
            "Processing triggers for man-db (2.10.2-1) ...\n",
            "Processing triggers for fontconfig (2.13.1-4.2ubuntu5) ...\n"
          ]
        }
      ]
    },
    {
      "cell_type": "code",
      "metadata": {
        "id": "OIkKFZW-7gSS",
        "colab": {
          "base_uri": "https://localhost:8080/"
        },
        "outputId": "a0b543d0-9abb-4461-c966-e04b2526352e"
      },
      "source": [
        "!pip install pdfplumber -q"
      ],
      "execution_count": 2,
      "outputs": [
        {
          "output_type": "stream",
          "name": "stdout",
          "text": [
            "\u001b[2K     \u001b[90m━━━━━━━━━━━━━━━━━━━━━━━━━━━━━━━━━━━━━━━━\u001b[0m \u001b[32m56.4/56.4 kB\u001b[0m \u001b[31m888.9 kB/s\u001b[0m eta \u001b[36m0:00:00\u001b[0m\n",
            "\u001b[2K     \u001b[90m━━━━━━━━━━━━━━━━━━━━━━━━━━━━━━━━━━━━━━━━\u001b[0m \u001b[32m5.6/5.6 MB\u001b[0m \u001b[31m22.2 MB/s\u001b[0m eta \u001b[36m0:00:00\u001b[0m\n",
            "\u001b[2K     \u001b[90m━━━━━━━━━━━━━━━━━━━━━━━━━━━━━━━━━━━━━━━━\u001b[0m \u001b[32m2.8/2.8 MB\u001b[0m \u001b[31m71.6 MB/s\u001b[0m eta \u001b[36m0:00:00\u001b[0m\n",
            "\u001b[?25h"
          ]
        }
      ]
    },
    {
      "cell_type": "code",
      "metadata": {
        "id": "bnD8KiTZK7-H"
      },
      "source": [
        "import os\n",
        "\n",
        "import requests\n",
        "import pdfplumber"
      ],
      "execution_count": 1,
      "outputs": []
    },
    {
      "cell_type": "code",
      "source": [],
      "metadata": {
        "id": "cXzwb9X3mWis"
      },
      "execution_count": null,
      "outputs": []
    },
    {
      "cell_type": "code",
      "metadata": {
        "id": "psTdGdHm-IKm",
        "outputId": "8f2f9a6f-e9c9-4365-fca1-c0598e98c40e",
        "colab": {
          "base_uri": "https://localhost:8080/"
        }
      },
      "source": [
        "invoice_path = \"/content/invoice_content/invoice.pdf\"\n",
        "with pdfplumber.open(invoice_path) as pdf:\n",
        "    page = pdf.pages[0]\n",
        "    text = page.extract_text(x_tolerance=2)\n",
        "    print(text)"
      ],
      "execution_count": 3,
      "outputs": [
        {
          "output_type": "stream",
          "name": "stdout",
          "text": [
            "TAX INVOICE\n",
            "Ola Electric Technologies Pvt Ltd. www.olaelectric.com\n",
            "Regd Office:#414,3rd floor,Regent Insignia, 4th Block, 17th Main,100 Feet Road, Koramangala,Bengalore,Karnataka,560034,IN\n",
            "Transaction Details\n",
            "Invoice Number : UP43071396 Invoice Date : 23.02.2024\n",
            "Hypothecated To : Accretive Cleantech Finance Private Limited Order ID : OET-525262215220224-SXO926\n",
            "Transaction ID & Date : &\n",
            "Payment Reference No : Place of Supply : Uttar Pradesh\n",
            "Amount Received : 1,549\n",
            "Party Details\n",
            "STANDARD TERMS AND CONDITION OF SALES :\n",
            "Bill From : Bill To Details : 1. Please note that is case your GST registration number is not mentioned on the invoice or mentioned incorrectly, please provide a copy of your GST registration so that we can update the same in our record\n",
            "for all future invoices, failing which we will not be responsible for any loss caused to you as a result of the non mentioning of your GST number.\n",
            "Ola Electric Technologies Pvt Ltd OET Lucknow Name : ROHIT CHATURVEDI\n",
            "Address : 154, siya chakki ke pass gram ,v post siya tham chirgaon siya ,siya ,,JHANSI,Uttar Pradesh\n",
            ",Kh No-543, 544, 537,540, 541,Village- Natkur,Bijnor Road,Sarojini\n",
            "Nagar,Lucknow,Uttar Pradesh,226008\n",
            "Pincode : 284301\n",
            "Phone No : 9454532016\n",
            "CIN No : U34300KA2021PTC142884 Email ID : rohitchaturvedi64@gmail.com\n",
            "PAN : AADCO3578R Aadhar No :\n",
            "GSTIN : 09AADCO3578R1ZJ GSTIN :\n",
            "SI. Item HSN/SAC IGST CGST SGST/UGST\n",
            "Product Code QTY UoM Rate of Unit Taxable Value\n",
            "No. Description code Rate % Amount Rate % Amount Rate % Amount\n",
            "1 HEL416MANR00BL HELMET HALF FACE - L 600mmBLACK 65061090 1 UNT 634.75 634.75 0 0.00 9 57.13 9 57.13\n",
            "2 BANK_CHARGES Loan Charges collected as pure agent 999799 1 UNT 500 500.00 0 0.00 9 0.00 9 0.00\n",
            "3 RTO_CHARGES_S1X RTO Charges collected as pure agent 999799 1 UNT 300.01 300.01 0 0.00 0 0.00 0 0.00\n",
            "+\n",
            "Total : 1,434.76 0.00 57.13 57.13\n",
            "Total Value of Invoice after GST : 1,549.00\n",
            "Total value of Invoice (In Words) : ONE THOUSAND FIVE HUNDRED FORTY NINE RUPEES ONLY\n",
            "Whether Reverse Charge Applicable : No\n",
            "GST Certificate : For Ola Electric Technologies Pvt Ltd.\n",
            "We hereby certify that our GST numbers as mentioned above are in force on the date of which the sale of the goods covered in this Authorised Signatory\n",
            "invoice is made by us and that the transaction of sale covered by this invoice has been effected by us in the course of our business.\n",
            "Original Copy\n",
            "Page 1 of 1\n"
          ]
        }
      ]
    },
    {
      "cell_type": "code",
      "metadata": {
        "id": "4eUU1w5d4fBP"
      },
      "source": [
        "lines = text.split('\\n')"
      ],
      "execution_count": 4,
      "outputs": []
    },
    {
      "cell_type": "code",
      "metadata": {
        "id": "1h6Y8UqgU9si",
        "colab": {
          "base_uri": "https://localhost:8080/"
        },
        "outputId": "43ef8a3b-25c2-4694-f20f-4f81bfaa54e4"
      },
      "source": [
        "lines"
      ],
      "execution_count": 5,
      "outputs": [
        {
          "output_type": "execute_result",
          "data": {
            "text/plain": [
              "['TAX INVOICE',\n",
              " 'Ola Electric Technologies Pvt Ltd. www.olaelectric.com',\n",
              " 'Regd Office:#414,3rd floor,Regent Insignia, 4th Block, 17th Main,100 Feet Road, Koramangala,Bengalore,Karnataka,560034,IN',\n",
              " 'Transaction Details',\n",
              " 'Invoice Number : UP43071396 Invoice Date : 23.02.2024',\n",
              " 'Hypothecated To : Accretive Cleantech Finance Private Limited Order ID : OET-525262215220224-SXO926',\n",
              " 'Transaction ID & Date : &',\n",
              " 'Payment Reference No : Place of Supply : Uttar Pradesh',\n",
              " 'Amount Received : 1,549',\n",
              " 'Party Details',\n",
              " 'STANDARD TERMS AND CONDITION OF SALES :',\n",
              " 'Bill From : Bill To Details : 1. Please note that is case your GST registration number is not mentioned on the invoice or mentioned incorrectly, please provide a copy of your GST registration so that we can update the same in our record',\n",
              " 'for all future invoices, failing which we will not be responsible for any loss caused to you as a result of the non mentioning of your GST number.',\n",
              " 'Ola Electric Technologies Pvt Ltd OET Lucknow Name : ROHIT CHATURVEDI',\n",
              " 'Address : 154, siya chakki ke pass gram ,v post siya tham chirgaon siya ,siya ,,JHANSI,Uttar Pradesh',\n",
              " ',Kh No-543, 544, 537,540, 541,Village- Natkur,Bijnor Road,Sarojini',\n",
              " 'Nagar,Lucknow,Uttar Pradesh,226008',\n",
              " 'Pincode : 284301',\n",
              " 'Phone No : 9454532016',\n",
              " 'CIN No : U34300KA2021PTC142884 Email ID : rohitchaturvedi64@gmail.com',\n",
              " 'PAN : AADCO3578R Aadhar No :',\n",
              " 'GSTIN : 09AADCO3578R1ZJ GSTIN :',\n",
              " 'SI. Item HSN/SAC IGST CGST SGST/UGST',\n",
              " 'Product Code QTY UoM Rate of Unit Taxable Value',\n",
              " 'No. Description code Rate % Amount Rate % Amount Rate % Amount',\n",
              " '1 HEL416MANR00BL HELMET HALF FACE - L 600mmBLACK 65061090 1 UNT 634.75 634.75 0 0.00 9 57.13 9 57.13',\n",
              " '2 BANK_CHARGES Loan Charges collected as pure agent 999799 1 UNT 500 500.00 0 0.00 9 0.00 9 0.00',\n",
              " '3 RTO_CHARGES_S1X RTO Charges collected as pure agent 999799 1 UNT 300.01 300.01 0 0.00 0 0.00 0 0.00',\n",
              " '+',\n",
              " 'Total : 1,434.76 0.00 57.13 57.13',\n",
              " 'Total Value of Invoice after GST : 1,549.00',\n",
              " 'Total value of Invoice (In Words) : ONE THOUSAND FIVE HUNDRED FORTY NINE RUPEES ONLY',\n",
              " 'Whether Reverse Charge Applicable : No',\n",
              " 'GST Certificate : For Ola Electric Technologies Pvt Ltd.',\n",
              " 'We hereby certify that our GST numbers as mentioned above are in force on the date of which the sale of the goods covered in this Authorised Signatory',\n",
              " 'invoice is made by us and that the transaction of sale covered by this invoice has been effected by us in the course of our business.',\n",
              " 'Original Copy',\n",
              " 'Page 1 of 1']"
            ]
          },
          "metadata": {},
          "execution_count": 5
        }
      ]
    },
    {
      "cell_type": "code",
      "metadata": {
        "id": "IxKbWlrJVA0R"
      },
      "source": [
        "import re"
      ],
      "execution_count": null,
      "outputs": []
    },
    {
      "cell_type": "code",
      "metadata": {
        "id": "FYszGGphYTI7"
      },
      "source": [
        "amt_re = re.compile(r'\\.\\d\\d$')"
      ],
      "execution_count": null,
      "outputs": []
    },
    {
      "cell_type": "code",
      "metadata": {
        "id": "d6GxjOnUYXzY"
      },
      "source": [
        "subt = 0\n",
        "\n",
        "for line in lines:\n",
        "    if 'SUBTOTAL' in line:\n",
        "        break\n",
        "    if amt_re.search(line):\n",
        "        subt += float(line.split()[-1].replace(',', '').replace('$', ''))"
      ],
      "execution_count": null,
      "outputs": []
    },
    {
      "cell_type": "code",
      "metadata": {
        "id": "zf7IUBoUYbOD",
        "colab": {
          "base_uri": "https://localhost:8080/",
          "height": 35
        },
        "outputId": "d30ca132-7675-42db-fc68-0c305139db84"
      },
      "source": [
        "subt"
      ],
      "execution_count": null,
      "outputs": [
        {
          "output_type": "execute_result",
          "data": {
            "text/plain": [
              "2090.0"
            ]
          },
          "metadata": {
            "tags": []
          },
          "execution_count": 22
        }
      ]
    },
    {
      "cell_type": "code",
      "metadata": {
        "id": "Ej2AUIsfYxw0",
        "colab": {
          "base_uri": "https://localhost:8080/",
          "height": 451
        },
        "outputId": "87b74d98-4c46-4ef4-aac9-8eb8ba2dfc06"
      },
      "source": [
        "lines"
      ],
      "execution_count": null,
      "outputs": [
        {
          "output_type": "execute_result",
          "data": {
            "text/plain": [
              "['Stanford Plumbing & Heating INVOICE',\n",
              " '123 Madison drive, Seattle, WA, 7829Q',\n",
              " 'plumbingstanford.com',\n",
              " '990-120-4560',\n",
              " 'BILL TO Invoice No: winvo2081',\n",
              " 'Allen Smith Invoice Date: nae',\n",
              " '87Private st, Seattle, WA ‘Due Date: 12/01/18',\n",
              " 'allen@gmailcom',\n",
              " '990-302-1898',\n",
              " 'DESCRIPTION QTYHR UNITPRICE TOTAL',\n",
              " 'Installed new kitchen sink(hours) 150.00',\n",
              " 'Toto sink 1 $00.00 $00.00',\n",
              " 'Worcester greenstar magnetic system filter 1 190.00 190.00',\n",
              " 'Nest smart thermostat 1 250.00 250.00',\n",
              " 'Worcester Greenstar 301 1 1500.00 1500.00',\n",
              " '‘SUBTOTAL 2590.00',\n",
              " 'DISCOUNT 50.00',\n",
              " '‘SUBTOTAL LESS DISCOUNT 2540.00',\n",
              " 'Tank you for your business!',\n",
              " 'TAXRATE 12.00%',\n",
              " 'TOTAL TAX 304.80',\n",
              " 'Balance Due $2,844.80',\n",
              " 'Terms & Instructions',\n",
              " 'Please pay within 20 days by PayPal (bob@stanfordplumbingcom)',\n",
              " 'Installed products have S year warranty.']"
            ]
          },
          "metadata": {
            "tags": []
          },
          "execution_count": 23
        }
      ]
    },
    {
      "cell_type": "code",
      "metadata": {
        "id": "DaUo7dk9Y2Aj"
      },
      "source": [],
      "execution_count": null,
      "outputs": []
    }
  ]
}